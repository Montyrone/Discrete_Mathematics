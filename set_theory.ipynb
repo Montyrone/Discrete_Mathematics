{
 "cells": [
  {
   "cell_type": "code",
   "execution_count": 1,
   "id": "12f5c074-b930-4025-b68a-076994072b29",
   "metadata": {},
   "outputs": [
    {
     "data": {
      "text/plain": [
       "('# 2. Sets and Subsets\\n',)"
      ]
     },
     "execution_count": 1,
     "metadata": {},
     "output_type": "execute_result"
    }
   ],
   "source": [
    "\"# 2. Sets and Subsets\\n\","
   ]
  },
  {
   "cell_type": "code",
   "execution_count": 2,
   "id": "55d3136c-f4bc-4f82-b6c8-6c05c00005bc",
   "metadata": {},
   "outputs": [
    {
     "data": {
      "text/plain": [
       "('- If A = {2,3,4,5}, and B = {$x \\\\in \\\\mathbb{N} | x \\\\ is \\\\ even$}. Is A $\\\\subset$ B? Show a proof.\\n',)"
      ]
     },
     "execution_count": 2,
     "metadata": {},
     "output_type": "execute_result"
    }
   ],
   "source": [
    "\"#### Use Latex Programming to show your solutions.\\n\",\n",
    "\"- If A = {2,3,4,5}, and B = {$x \\\\in \\\\mathbb{N} | x \\\\ is \\\\ even$}. Is A $\\\\subset$ B? Show a proof.\\n\","
   ]
  },
  {
   "cell_type": "code",
   "execution_count": null,
   "id": "d9a337c0-fe2a-4a8a-96b7-8b91727f8a89",
   "metadata": {},
   "outputs": [],
   "source": []
  }
 ],
 "metadata": {
  "kernelspec": {
   "display_name": "Python 3 (ipykernel)",
   "language": "python",
   "name": "python3"
  },
  "language_info": {
   "codemirror_mode": {
    "name": "ipython",
    "version": 3
   },
   "file_extension": ".py",
   "mimetype": "text/x-python",
   "name": "python",
   "nbconvert_exporter": "python",
   "pygments_lexer": "ipython3",
   "version": "3.11.5"
  }
 },
 "nbformat": 4,
 "nbformat_minor": 5
}
